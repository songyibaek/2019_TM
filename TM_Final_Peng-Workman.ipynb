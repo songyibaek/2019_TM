﻿{
 "cells": [
  {
   "cell_type": "code",
   "execution_count": 13,
   "metadata": {},
   "outputs": [
    {
     "ename": "SyntaxError",
     "evalue": "invalid syntax (<ipython-input-13-e341b8a885f8>, line 10)",
     "output_type": "error",
     "traceback": [
      "\u001b[1;36m  File \u001b[1;32m\"<ipython-input-13-e341b8a885f8>\"\u001b[1;36m, line \u001b[1;32m10\u001b[0m\n\u001b[1;33m    import konlpy.tag import Okt\u001b[0m\n\u001b[1;37m                           ^\u001b[0m\n\u001b[1;31mSyntaxError\u001b[0m\u001b[1;31m:\u001b[0m invalid syntax\n"
     ]
    }
   ],
   "source": [
    "#펭수/워크맨 csv 불러와서 시각화 및 머신러닝\n",
    "# 패키지 import\n",
    "import datetime as dt\n",
    "import pandas as pd\n",
    "import requests\n",
    "import time\n",
    "import urllib.request #\n",
    "import re     \n",
    "import konlpy\n",
    "import konlpy.tag import Okt\n",
    "\n",
    "from bs4 import BeautifulSoup\n",
    "from pandas import DataFrame\n",
    "from selenium.webdriver import Chrome\n",
    "from selenium.webdriver.chrome.options import Options\n",
    "from selenium.webdriver.common.keys import Keys\n"
   ]
  },
  {
   "cell_type": "code",
   "execution_count": 14,
   "metadata": {},
   "outputs": [],
   "source": [
    "peng = pd.read_csv('peng.csv')\n",
    "peng_reply = pd.read_csv('peng_reply.csv')\n",
    "\n",
    "#work = pd.read_csv('work.csv')\n",
    "#work_reply = pd.read_csv('work_reply.csv')\n"
   ]
  },
  {
   "cell_type": "code",
   "execution_count": 15,
   "metadata": {},
   "outputs": [
    {
     "data": {
      "text/html": [
       "<div>\n",
       "<style scoped>\n",
       "    .dataframe tbody tr th:only-of-type {\n",
       "        vertical-align: middle;\n",
       "    }\n",
       "\n",
       "    .dataframe tbody tr th {\n",
       "        vertical-align: top;\n",
       "    }\n",
       "\n",
       "    .dataframe thead th {\n",
       "        text-align: right;\n",
       "    }\n",
       "</style>\n",
       "<table border=\"1\" class=\"dataframe\">\n",
       "  <thead>\n",
       "    <tr style=\"text-align: right;\">\n",
       "      <th></th>\n",
       "      <th>Unnamed: 0</th>\n",
       "      <th>제목</th>\n",
       "      <th>주소</th>\n",
       "      <th>조회수</th>\n",
       "      <th>좋아요</th>\n",
       "      <th>싫어요</th>\n",
       "      <th>댓글수</th>\n",
       "      <th>본문내용</th>\n",
       "    </tr>\n",
       "  </thead>\n",
       "  <tbody>\n",
       "    <tr>\n",
       "      <th>0</th>\n",
       "      <td>0</td>\n",
       "      <td>[Ep 67] 전 세계 게 섰거라 (feat. 외교부)</td>\n",
       "      <td>/watch?v=yUJAvW2Rykc</td>\n",
       "      <td>1,374,702</td>\n",
       "      <td>41000</td>\n",
       "      <td>748</td>\n",
       "      <td>20</td>\n",
       "      <td>K-펭귄 한다 해외진출</td>\n",
       "    </tr>\n",
       "    <tr>\n",
       "      <th>1</th>\n",
       "      <td>1</td>\n",
       "      <td>[Ep.66]  화보 모델 펭수</td>\n",
       "      <td>/watch?v=XUM3sH1kBtw</td>\n",
       "      <td>1,562,005</td>\n",
       "      <td>45000</td>\n",
       "      <td>453</td>\n",
       "      <td>20</td>\n",
       "      <td>펭수가 화보 모델로서 촬영을 하게 되었다!화보 촬영을 위한 펭수의 눈물(?) 나는 ...</td>\n",
       "    </tr>\n",
       "    <tr>\n",
       "      <th>2</th>\n",
       "      <td>2</td>\n",
       "      <td>펭수와 팬들의 최강 컬래버레이션 신상뮤비 (feat. 챌린지♡)</td>\n",
       "      <td>/watch?v=LPmyxMH96S8</td>\n",
       "      <td>600,930</td>\n",
       "      <td>28000</td>\n",
       "      <td>133</td>\n",
       "      <td>20</td>\n",
       "      <td>힙합펭수의 커버영상이 드. 디. 어. 찾아왔다!월미도에서 촬영했던 미공개 영상과 여...</td>\n",
       "    </tr>\n",
       "    <tr>\n",
       "      <th>3</th>\n",
       "      <td>3</td>\n",
       "      <td>[Ep.65] 세상에 나쁜 펭귄은 없다.</td>\n",
       "      <td>/watch?v=wedLGh2jxkQ</td>\n",
       "      <td>1,944,586</td>\n",
       "      <td>50000</td>\n",
       "      <td>539</td>\n",
       "      <td>20</td>\n",
       "      <td>어느 날 갑자기 펭수에게 이상한 행동들이 보인다!? 걱정된 제작진들이 긴급 솔루션 ...</td>\n",
       "    </tr>\n",
       "    <tr>\n",
       "      <th>4</th>\n",
       "      <td>4</td>\n",
       "      <td>수험생은 지금 당장 이 영상을 봅니다 (feat. 정승제쌤)</td>\n",
       "      <td>/watch?v=25RhzK3HuYM</td>\n",
       "      <td>648,478</td>\n",
       "      <td>20000</td>\n",
       "      <td>135</td>\n",
       "      <td>20</td>\n",
       "      <td>내일 모레 엄청 큰 시험을 앞둔여러분들을 위해 이 영상을 바칩니당 펭펭</td>\n",
       "    </tr>\n",
       "  </tbody>\n",
       "</table>\n",
       "</div>"
      ],
      "text/plain": [
       "   Unnamed: 0                                   제목                    주소  \\\n",
       "0           0       [Ep 67] 전 세계 게 섰거라 (feat. 외교부)  /watch?v=yUJAvW2Rykc   \n",
       "1           1                    [Ep.66]  화보 모델 펭수  /watch?v=XUM3sH1kBtw   \n",
       "2           2  펭수와 팬들의 최강 컬래버레이션 신상뮤비 (feat. 챌린지♡)  /watch?v=LPmyxMH96S8   \n",
       "3           3               [Ep.65] 세상에 나쁜 펭귄은 없다.  /watch?v=wedLGh2jxkQ   \n",
       "4           4    수험생은 지금 당장 이 영상을 봅니다 (feat. 정승제쌤)  /watch?v=25RhzK3HuYM   \n",
       "\n",
       "         조회수    좋아요  싫어요  댓글수  \\\n",
       "0  1,374,702  41000  748   20   \n",
       "1  1,562,005  45000  453   20   \n",
       "2    600,930  28000  133   20   \n",
       "3  1,944,586  50000  539   20   \n",
       "4    648,478  20000  135   20   \n",
       "\n",
       "                                                본문내용  \n",
       "0                                       K-펭귄 한다 해외진출  \n",
       "1  펭수가 화보 모델로서 촬영을 하게 되었다!화보 촬영을 위한 펭수의 눈물(?) 나는 ...  \n",
       "2  힙합펭수의 커버영상이 드. 디. 어. 찾아왔다!월미도에서 촬영했던 미공개 영상과 여...  \n",
       "3  어느 날 갑자기 펭수에게 이상한 행동들이 보인다!? 걱정된 제작진들이 긴급 솔루션 ...  \n",
       "4            내일 모레 엄청 큰 시험을 앞둔여러분들을 위해 이 영상을 바칩니당 펭펭  "
      ]
     },
     "execution_count": 15,
     "metadata": {},
     "output_type": "execute_result"
    }
   ],
   "source": [
    "peng.head()"
   ]
  },
  {
   "cell_type": "code",
   "execution_count": 16,
   "metadata": {},
   "outputs": [
    {
     "data": {
      "text/html": [
       "<div>\n",
       "<style scoped>\n",
       "    .dataframe tbody tr th:only-of-type {\n",
       "        vertical-align: middle;\n",
       "    }\n",
       "\n",
       "    .dataframe tbody tr th {\n",
       "        vertical-align: top;\n",
       "    }\n",
       "\n",
       "    .dataframe thead th {\n",
       "        text-align: right;\n",
       "    }\n",
       "</style>\n",
       "<table border=\"1\" class=\"dataframe\">\n",
       "  <thead>\n",
       "    <tr style=\"text-align: right;\">\n",
       "      <th></th>\n",
       "      <th>Unnamed: 0</th>\n",
       "      <th>ID</th>\n",
       "      <th>Comment</th>\n",
       "      <th>Like</th>\n",
       "      <th>Title_number</th>\n",
       "    </tr>\n",
       "  </thead>\n",
       "  <tbody>\n",
       "    <tr>\n",
       "      <th>0</th>\n",
       "      <td>0</td>\n",
       "      <td>대한민국외교부</td>\n",
       "      <td>펭수 와줘서 고마워요! 해외진출의 꿈을 응원할게요~ 2019 한·아세안 특별정상회의...</td>\n",
       "      <td>3600</td>\n",
       "      <td>0</td>\n",
       "    </tr>\n",
       "    <tr>\n",
       "      <th>1</th>\n",
       "      <td>1</td>\n",
       "      <td>펭랑단1호</td>\n",
       "      <td>악플러들 고소하고 EBS 빚 갚자</td>\n",
       "      <td>3600</td>\n",
       "      <td>0</td>\n",
       "    </tr>\n",
       "    <tr>\n",
       "      <th>2</th>\n",
       "      <td>2</td>\n",
       "      <td>Isabel la</td>\n",
       "      <td>아니 무슨 교육방송이 ㅋㅋㅋ 왠만한 예능프로그램보다 더 잘만들어 자막이고 편집이고 ...</td>\n",
       "      <td>1300</td>\n",
       "      <td>0</td>\n",
       "    </tr>\n",
       "    <tr>\n",
       "      <th>3</th>\n",
       "      <td>3</td>\n",
       "      <td>월드곰탱이</td>\n",
       "      <td>초반 영상부터 다 봐온 사람으로서열심히 한 죄밖에 없는데너무 힘들게 하는듯나쁜 댓글...</td>\n",
       "      <td>1300</td>\n",
       "      <td>0</td>\n",
       "    </tr>\n",
       "    <tr>\n",
       "      <th>4</th>\n",
       "      <td>4</td>\n",
       "      <td>gravity</td>\n",
       "      <td>위험한 물품 가지고 있어여? “제 자신” ㅋㅋㅋㅋㅋㅋㅋㅋㅋㅋㅋㅋㅋ</td>\n",
       "      <td>1000</td>\n",
       "      <td>0</td>\n",
       "    </tr>\n",
       "  </tbody>\n",
       "</table>\n",
       "</div>"
      ],
      "text/plain": [
       "   Unnamed: 0                        ID  \\\n",
       "0           0     대한민국외교부                 \n",
       "1           1       펭랑단1호                 \n",
       "2           2   Isabel la                 \n",
       "3           3       월드곰탱이                 \n",
       "4           4     gravity                 \n",
       "\n",
       "                                             Comment  Like  Title_number  \n",
       "0  펭수 와줘서 고마워요! 해외진출의 꿈을 응원할게요~ 2019 한·아세안 특별정상회의...  3600             0  \n",
       "1                                 악플러들 고소하고 EBS 빚 갚자  3600             0  \n",
       "2  아니 무슨 교육방송이 ㅋㅋㅋ 왠만한 예능프로그램보다 더 잘만들어 자막이고 편집이고 ...  1300             0  \n",
       "3  초반 영상부터 다 봐온 사람으로서열심히 한 죄밖에 없는데너무 힘들게 하는듯나쁜 댓글...  1300             0  \n",
       "4               위험한 물품 가지고 있어여? “제 자신” ㅋㅋㅋㅋㅋㅋㅋㅋㅋㅋㅋㅋㅋ  1000             0  "
      ]
     },
     "execution_count": 16,
     "metadata": {},
     "output_type": "execute_result"
    }
   ],
   "source": [
    "peng_reply.head()"
   ]
  },
  {
   "cell_type": "code",
   "execution_count": 19,
   "metadata": {},
   "outputs": [
    {
     "name": "stdout",
     "output_type": "stream",
     "text": [
      "0                         [Ep 67] 전 세계 게 섰거라 (feat. 외교부)\n",
      "1                                      [Ep.66]  화보 모델 펭수\n",
      "2                    펭수와 팬들의 최강 컬래버레이션 신상뮤비 (feat. 챌린지♡)\n",
      "3                                 [Ep.65] 세상에 나쁜 펭귄은 없다.\n",
      "4                      수험생은 지금 당장 이 영상을 봅니다 (feat. 정승제쌤)\n",
      "5                   1회 남극 유치원 동창회 시작합니다(Feat. 둘리 선배님 등장)\n",
      "6                     윤도현 선배님과 S본부에서 만남(feat. 우리 호흡 난리남)\n",
      "7                          펭수의 매니저 사관학교(feat.매니저스) 펭! 하!\n",
      "8                               [Ep.62] 인간x펭귄 두근두근 첫 데이트\n",
      "9             펭수, 드디어 실버버튼 받다! (feat. 날개로 하는 언박싱은 처음이지?)\n",
      "10                               [Ep.61] 나 펭수, 학교에 잠입한다.\n",
      "11                               (공) 행운의 펭수 카드 탄생 비화 (개)\n",
      "12                      [Ep.60] 펭수, EBS 퇴사??? SBS 정복기(2)\n",
      "13                 이제야 공개하는 추억의 10만 라이브 (feat. 깔끔진행 펭MC)\n",
      "14                    [Ep.59] 펭수vs재재 관심사냥 대결! SBS 정복기(1)\n",
      "15              맨날 친구 만나러 간다는 펭수의 비밀?! [펭귄극장EP3_스타는 외로워]\n",
      "16                       [Ep.58]한류 펭귄 펭수, 해외진출합니다 -프랑스편-\n",
      "17                   추억의 5만 구독자 축하 라이브 (feat. 트렌치코트 언박싱)\n",
      "18           [단독] 펭귄 의혹 전격 해부! ㅣ독점 인터뷰: 김민교, 양치승 [Ep.57]\n",
      "19                    펭수의 진짜 나이는 몇살? [펭귄극장EP2_내 나이가 어때서]\n",
      "20                                   자이언트 펭TV 방송시간 변경 안내\n",
      "21                     [Ep.56] '펭TV 야유회'라고 쓰고 '지옥'이라 읽는다\n",
      "22                                 F/W 신상 타이틀곡 뮤직비디오 챌린지\n",
      "23                           [Ep.55] 교감 선생님 풀장에 빠뜨린 SSUL\n",
      "24                        펭수가 갑자기 뱀에 물렸다 (feat. 도와줘요119)\n",
      "25                     우리 펭수가 눈물이 많아졌어요 [펭귄극장EP1_펭귄의 눈물]\n",
      "26                            [Ep.54] 펭슈스가 엄선한 수학여행 옷 추천\n",
      "27                                    [Ep.53] 펭수.한다.소방관.\n",
      "28             펭수가 무대를 뒤집어 놓으셨다...! (a.k.a. 준비된 EBS 연습생)\n",
      "29                EBS 옥상에서 뚝딱이 선배님을 만났다 (feat. 역대급 깜짝손님)\n",
      "                             ...                        \n",
      "93                          펭수의 댓글읽기 두 번째 이야기 (feat. 근원)\n",
      "94              펭수, 한강 수영 라이브?! 10살 펭수는 남극이 그리워요 [EP.15]\n",
      "95                         펭수, 해외 진출 준비? 펭수의 귀염 터지는 외국어송\n",
      "96                        [이벤트] 몰아보기 하면서 배꼽 잡고, 선물도 잡으세요\n",
      "97       [EP.14] 민속촌에서 배운 숨멎 고백법 (ft. 펭수에게 좋아하는 사람이 생겼다)\n",
      "98     [EP.13] ※소름주의※ _\"그러니까 초딩은 건드리지 말았어야지!\"_민속촌에서 펭...\n",
      "99     오늘은 펭수가 매니저 일 다한다고요. 아.시.겠.어.요? \"펭수, 매니저 되다!\" ...\n",
      "100            뜻밖의 팬미팅? 금손 성덕 파티, 제1회 펭수 표현하기 대회 [EP.11]\n",
      "101                 [홍대 댄스배틀] EBS 펭귄 \"펭수\" VS 스트릿 댄서 \"쿠마\"\n",
      "102             연습생이라면 버스킹은 해봐야지! 거대 펭귄 홍대 습격사건! [EP.10]\n",
      "103    EBS 지하 소품실에 펭귄이 산다고?! 펭수의 은밀한 사생활 드디어 대.공.개! [...\n",
      "104               펭수의 오열파티T.T  \"펭수VS뽀로로\" 최종화 [EP-08] (2)\n",
      "105               뽀로로는 펭귄이 아니라고?! 펭귄 전문가 등장! [EP-08] (1)\n",
      "106             오랬더니 진짜 왔다??! 펭수VS뽀로로, 배틀 스타트! [EP.07-2]\n",
      "107     우주 전쟁의 서막? 펭수, 중대 발표!!!(feat. 초특급 게스트) [EP.07-1]\n",
      "108                                펭수 구독자 3천 돌파 기념 댓글 읽기\n",
      "109               시민들의 벚꽃놀이 인생샷 대방출 [EP.06-2] (자이언트 펭TV)\n",
      "110                 벚꽃이 초면인 관종 펭귄, 인생샷 건지러 가다! [EP.06-1]\n",
      "111    펭수 VS 흔한남매 두 번째! 피도 눈물도 없는 펭수, 결국 에이미를 울리다?! [...\n",
      "112      드디어 공개 된 비책! 펭수 vs 흔한남매 첫번째 크리에이터력 대결 [EP.05-1]\n",
      "113       거대 펭귄의 눈물 젖은 샌드위치 먹방! 펭수 흔한남매 만나다(2) [EP.04-2]\n",
      "114    어디선가 100만 구독자의 냄새가 난다! 펭수 두 번째 스승 흔한남매 만나다!(1)...\n",
      "115             전지영 스승님....펭수도 '인싸'이더가 되고싶어요!! [EP.03-2]\n",
      "116            특단의 조치?! 관종 펭귄 SNS 스타 전지영을 만나다! [EP.03-1]\n",
      "117                          [매니저직캠] 거대 펭귄의 소름돋는 요들송 라이브\n",
      "118         \"2m 10cm 전학생  VS 교장선생님?\" 펭수, 교장실 급습! [EP.02]\n",
      "119                 \"관종 펭귄, 초등학교 습격?\" 펭수, 학교 가다! [EP.01]\n",
      "120          관종 펭귄 '펭수' EBS 데뷔 D-3!! teaser.2 [자이언트 펭TV]\n",
      "121           'EBS 연습생 펭귄, 방송국 점거??' [자이언트 펭TV] teaser.1\n",
      "122                     [펭TV] EBS 연습생 펭수 유튜브 데뷔💜 머랭쿠키 먹방\n",
      "Name: 제목, Length: 123, dtype: object\n"
     ]
    }
   ],
   "source": [
    "print(peng[\"제목\"])"
   ]
  },
  {
   "cell_type": "code",
   "execution_count": 20,
   "metadata": {},
   "outputs": [
    {
     "ename": "NameError",
     "evalue": "name 'Okt' is not defined",
     "output_type": "error",
     "traceback": [
      "\u001b[1;31m---------------------------------------------------------------------------\u001b[0m",
      "\u001b[1;31mNameError\u001b[0m                                 Traceback (most recent call last)",
      "\u001b[1;32m<ipython-input-20-1347aa17dfd3>\u001b[0m in \u001b[0;36m<module>\u001b[1;34m\u001b[0m\n\u001b[0;32m      1\u001b[0m \u001b[1;31m# 1. 전체 영상에 대한 형태소 분석\u001b[0m\u001b[1;33m\u001b[0m\u001b[1;33m\u001b[0m\u001b[1;33m\u001b[0m\u001b[0m\n\u001b[1;32m----> 2\u001b[1;33m \u001b[0mokt\u001b[0m \u001b[1;33m=\u001b[0m \u001b[0mOkt\u001b[0m\u001b[1;33m(\u001b[0m\u001b[1;33m)\u001b[0m\u001b[1;33m\u001b[0m\u001b[1;33m\u001b[0m\u001b[0m\n\u001b[0m\u001b[0;32m      3\u001b[0m \u001b[1;33m\u001b[0m\u001b[0m\n\u001b[0;32m      4\u001b[0m \u001b[1;31m#for i in range(len(clean_story_sub_list)):\u001b[0m\u001b[1;33m\u001b[0m\u001b[1;33m\u001b[0m\u001b[1;33m\u001b[0m\u001b[0m\n\u001b[0;32m      5\u001b[0m \u001b[1;31m#    print(okt.morphs(clean_story_sub_list[i]))\u001b[0m\u001b[1;33m\u001b[0m\u001b[1;33m\u001b[0m\u001b[1;33m\u001b[0m\u001b[0m\n",
      "\u001b[1;31mNameError\u001b[0m: name 'Okt' is not defined"
     ]
    }
   ],
   "source": [
    "# 1. 전체 영상에 대한 형태소 분석\n",
    "okt = Okt()\n",
    "\n",
    "#for i in range(len(clean_story_sub_list)):\n",
    "#    print(okt.morphs(clean_story_sub_list[i]))\n",
    "\n",
    "for i in range(len(peng[\"제목\"])):\n",
    "    print(okt.morphs(peng[\"제목\"][i]))"
   ]
  },
  {
   "cell_type": "code",
   "execution_count": null,
   "metadata": {},
   "outputs": [],
   "source": [
    "# 명사 분석\n",
    "for i in range(len(clean_story_sub_list)):\n",
    "    print(okt.nouns(clean_story_sub_list[i]))"
   ]
  },
  {
   "cell_type": "code",
   "execution_count": null,
   "metadata": {},
   "outputs": [],
   "source": [
    "# 구(Phrase) 분석\n",
    "for i in range(len(clean_story_sub_list)):\n",
    "    print(okt.phrases(clean_story_sub_list[i]))"
   ]
  },
  {
   "cell_type": "code",
   "execution_count": null,
   "metadata": {},
   "outputs": [],
   "source": [
    "# 품사 태깅\n",
    "for i in range(len(clean_story_sub_list)):\n",
    "    print(okt.pos(clean_story_sub_list[i]))"
   ]
  },
  {
   "cell_type": "code",
   "execution_count": null,
   "metadata": {},
   "outputs": [],
   "source": []
  }
 ],
 "metadata": {
  "kernelspec": {
   "display_name": "Python 3",
   "language": "python",
   "name": "python3"
  },
  "language_info": {
   "codemirror_mode": {
    "name": "ipython",
    "version": 3
   },
   "file_extension": ".py",
   "mimetype": "text/x-python",
   "name": "python",
   "nbconvert_exporter": "python",
   "pygments_lexer": "ipython3",
   "version": "3.6.7"
  }
 },
 "nbformat": 4,
 "nbformat_minor": 2
}
